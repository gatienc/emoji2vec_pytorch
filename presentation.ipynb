{
 "cells": [
  {
   "cell_type": "markdown",
   "metadata": {},
   "source": [
    "Please check out the original [tensorflow implementation](https://github.com/uclmr/emoji2vec) of Emoji2Vec by its authors as well as the [paper](https://arxiv.org/pdf/1609.08359.pdf) for more details. <br>\n",
    "This notebook is intended to provide an intuition behind Emoji2Vec and provide an idea of its features rather than serve as a in-depth analysis of the framework."
   ]
  },
  {
   "cell_type": "code",
   "execution_count": 1,
   "metadata": {},
   "outputs": [],
   "source": [
    "# External dependencies\n",
    "import os\n",
    "import numpy as np\n",
    "import pickle as pk\n",
    "import gensim.models as gsm\n",
    "import torch\n",
    "from tabulate import tabulate\n",
    "\n",
    "# Internal dependencies\n",
    "from model import Emoji2Vec, ModelParams\n",
    "from phrase2vec import Phrase2Vec\n",
    "from utils import build_kb, get_examples_from_kb, generate_embeddings, get_metrics, generate_predictions"
   ]
  },
  {
   "cell_type": "markdown",
   "metadata": {},
   "source": [
    "### What is Emoji2Vec?\n",
    "Emoji2Vec representations are a form of distributed representations for Unicode emojis, trained directly from natural language descriptions of emojis. <br>\n",
    "This notebook presents a high level walkthrough the process of training Emoji2Vec representations and demonstrates some experimental results. <br><br>\n",
    "First, lets define the logical steps in training Emoji2Vec representations.\n",
    "1. For each emoji in a data set a number of natural language descriptions is collected.\n",
    "2. Each description is encoded to a fixed form vector in a high dimensional space. \n",
    "    - Although it can be done by an arbitrary encoding method, this implementation follows the approach presented in the [paper](https://arxiv.org/pdf/1609.08359.pdf) using 300-dimensional [Google News word2vec embeddings](https://code.google.com/archive/p/word2vec/) together with a simple phrase encoder `phrase2vec.Phrase2Vec`.\n",
    "3. A neural network model is trained to classify emojis from their descriptions.\n",
    "    - Inside the model each unique emoji has its own vector of parameters that is updated when this emoji is being classified. Through continuous incrementation in training such vectors of parameters become emoji representations.\n",
    "4. Neural network's parameters are extracted and used as distributed emoji representations that are embedded in the same space as the underlying word embeddings."
   ]
  },
  {
   "cell_type": "markdown",
   "metadata": {},
   "source": [
    "### How to train Emoji2Vec representations?\n",
    "First, we need a couple of things to train Emoji2Vec representations. Most importantly we need something to encode natural language descriptions of emojis to a fixed form high dimensional vectors. For this we are going to use [Google News wor2vec embeddings](https://code.google.com/archive/p/word2vec/), so in order to continue with this notebook make sure you've downloaded those embeddings and placed a `.bin.gz` file in `data/word2vec`. <br><br>\n",
    "Of course we also need some emojis and their natural language descriptions. Fortunately authors of the paper collected a data set that is part of this repository. <br>\n",
    "Our training data set is in `data/training`. Let's add this directory to our parameters."
   ]
  },
  {
   "cell_type": "code",
   "execution_count": 2,
   "metadata": {},
   "outputs": [],
   "source": [
    "params = {\"data_folder\": \"data/training\"}"
   ]
  },
  {
   "cell_type": "markdown",
   "metadata": {},
   "source": [
    "To train Emoji2Vec representations we need to put emojis in some sort of organised structure, so that after training we know which vector of parameters in the model is associated with which emoji. Of course the same needs to be done for each phrase (natural language description of emoji) in the data set so that we know which descrption describes which emoji."
   ]
  },
  {
   "cell_type": "code",
   "execution_count": 3,
   "metadata": {},
   "outputs": [
    {
     "name": "stdout",
     "output_type": "stream",
     "text": [
      "reading training data from: data/training\n"
     ]
    }
   ],
   "source": [
    "# Build knowledge base\n",
    "print('reading training data from: ' + params[\"data_folder\"])\n",
    "kb, ind2phr, ind2emoji = build_kb(params[\"data_folder\"])\n"
   ]
  },
  {
   "cell_type": "markdown",
   "metadata": {},
   "source": [
    "We'll need this emoji mapping later, so for now let's save it to a file."
   ]
  },
  {
   "cell_type": "code",
   "execution_count": 4,
   "metadata": {},
   "outputs": [],
   "source": [
    "params.update({\"mapping_file\": \"emoji_mapping_file.pkl\"})"
   ]
  },
  {
   "cell_type": "code",
   "execution_count": 5,
   "metadata": {},
   "outputs": [],
   "source": [
    "# Save the mapping from index to emoji\n",
    "pk.dump(ind2emoji, open(params[\"mapping_file\"], 'wb'))"
   ]
  },
  {
   "cell_type": "markdown",
   "metadata": {},
   "source": [
    "Time to encode descriptions of emojis to fixed form vectors. As mentioned before we're using 300 dimensional Google News embeddings located in `data/word2vec`. As we will need them later we're going to save the generated embeddings of descriptions to a file `phrase_embeddings.pkl`. <br>Let's add those paths to our parameters."
   ]
  },
  {
   "cell_type": "code",
   "execution_count": 6,
   "metadata": {},
   "outputs": [],
   "source": [
    "params.update({\"word2vec_embeddings_file\": \"data/word2vec/GoogleNews-vectors-negative300.bin.gz\",\n",
    "               \"phrase_embeddings_file\": \"phrase_embeddings.pkl\"})"
   ]
  },
  {
   "cell_type": "markdown",
   "metadata": {},
   "source": [
    "To reitarete - phrase embeddings are embeddigns of each emoji description that will serve as input for the neural network, whereas Google News embeddings are what we use to generate phrase embeddings. <br>"
   ]
  },
  {
   "cell_type": "code",
   "execution_count": 7,
   "metadata": {},
   "outputs": [
    {
     "name": "stdout",
     "output_type": "stream",
     "text": [
      "loading embeddings...\n"
     ]
    }
   ],
   "source": [
    "# Generate embeddings for each phrase in the training set\n",
    "embeddings_array = generate_embeddings(ind2phr=ind2phr, kb=kb, embeddings_file=params[\"phrase_embeddings_file\"],\n",
    "                                       word2vec_file=params[\"word2vec_embeddings_file\"])"
   ]
  },
  {
   "cell_type": "markdown",
   "metadata": {},
   "source": [
    "So we have the training input (phrase embeddings), now let's load our training and development data sets."
   ]
  },
  {
   "cell_type": "code",
   "execution_count": 8,
   "metadata": {},
   "outputs": [],
   "source": [
    "train_set = get_examples_from_kb(kb=kb, example_type='train')\n",
    "dev_set = get_examples_from_kb(kb=kb, example_type='dev')"
   ]
  },
  {
   "cell_type": "markdown",
   "metadata": {},
   "source": [
    "And define training parameters."
   ]
  },
  {
   "cell_type": "code",
   "execution_count": 9,
   "metadata": {},
   "outputs": [],
   "source": [
    "model_params = ModelParams(in_dim=300, \n",
    "                           out_dim=300, \n",
    "                           max_epochs=60, \n",
    "                           pos_ex=4, \n",
    "                           neg_ratio=1, \n",
    "                           learning_rate=0.001,\n",
    "                           dropout=0.0, \n",
    "                           class_threshold=0.5)"
   ]
  },
  {
   "cell_type": "markdown",
   "metadata": {},
   "source": [
    "Define the model, it needs to know the training parameters, the number of emojis (size of parameter matrix depends on it) and the matrix of phrase embeddings (embeddings of emoji descriptions)."
   ]
  },
  {
   "cell_type": "code",
   "execution_count": 10,
   "metadata": {},
   "outputs": [],
   "source": [
    "model = Emoji2Vec(model_params=model_params, num_emojis=kb.dim_size(0), embeddings_array=embeddings_array)"
   ]
  },
  {
   "cell_type": "markdown",
   "metadata": {},
   "source": [
    "Now that the model has been defined, let's train it! "
   ]
  },
  {
   "cell_type": "code",
   "execution_count": 11,
   "metadata": {},
   "outputs": [
    {
     "name": "stderr",
     "output_type": "stream",
     "text": [
      "/home/user/Documents/emoji2vec/e2v_env/lib/python3.6/site-packages/sklearn/metrics/classification.py:1143: UndefinedMetricWarning: F-score is ill-defined and being set to 0.0 due to no predicted samples.\n",
      "  'precision', 'predicted', average, warn_for)\n"
     ]
    },
    {
     "name": "stdout",
     "output_type": "stream",
     "text": [
      "Epoch: 1 \n",
      " Training loss: 0.68 \n",
      " Training acc: 0.57 \n",
      " Training f1: 0.57 \n",
      " ===================\n",
      "Epoch: 2 \n",
      " Training loss: 0.58 \n",
      " Training acc: 0.73 \n",
      " Training f1: 0.76 \n",
      " ===================\n",
      "Epoch: 3 \n",
      " Training loss: 0.51 \n",
      " Training acc: 0.81 \n",
      " Training f1: 0.83 \n",
      " ===================\n",
      "Epoch: 4 \n",
      " Training loss: 0.45 \n",
      " Training acc: 0.84 \n",
      " Training f1: 0.86 \n",
      " ===================\n",
      "Epoch: 5 \n",
      " Training loss: 0.41 \n",
      " Training acc: 0.87 \n",
      " Training f1: 0.89 \n",
      " ===================\n",
      "Epoch: 6 \n",
      " Training loss: 0.38 \n",
      " Training acc: 0.89 \n",
      " Training f1: 0.9 \n",
      " ===================\n",
      "Epoch: 7 \n",
      " Training loss: 0.34 \n",
      " Training acc: 0.91 \n",
      " Training f1: 0.92 \n",
      " ===================\n",
      "Epoch: 8 \n",
      " Training loss: 0.32 \n",
      " Training acc: 0.92 \n",
      " Training f1: 0.93 \n",
      " ===================\n",
      "Epoch: 9 \n",
      " Training loss: 0.3 \n",
      " Training acc: 0.93 \n",
      " Training f1: 0.94 \n",
      " ===================\n",
      "Epoch: 10 \n",
      " Training loss: 0.27 \n",
      " Training acc: 0.94 \n",
      " Training f1: 0.94 \n",
      " ===================\n",
      "Epoch: 11 \n",
      " Training loss: 0.26 \n",
      " Training acc: 0.94 \n",
      " Training f1: 0.94 \n",
      " ===================\n",
      "Epoch: 12 \n",
      " Training loss: 0.24 \n",
      " Training acc: 0.95 \n",
      " Training f1: 0.95 \n",
      " ===================\n",
      "Epoch: 13 \n",
      " Training loss: 0.23 \n",
      " Training acc: 0.95 \n",
      " Training f1: 0.95 \n",
      " ===================\n",
      "Epoch: 14 \n",
      " Training loss: 0.21 \n",
      " Training acc: 0.96 \n",
      " Training f1: 0.96 \n",
      " ===================\n",
      "Epoch: 15 \n",
      " Training loss: 0.2 \n",
      " Training acc: 0.96 \n",
      " Training f1: 0.96 \n",
      " ===================\n",
      "Epoch: 16 \n",
      " Training loss: 0.2 \n",
      " Training acc: 0.96 \n",
      " Training f1: 0.96 \n",
      " ===================\n",
      "Epoch: 17 \n",
      " Training loss: 0.18 \n",
      " Training acc: 0.96 \n",
      " Training f1: 0.97 \n",
      " ===================\n",
      "Epoch: 18 \n",
      " Training loss: 0.17 \n",
      " Training acc: 0.97 \n",
      " Training f1: 0.97 \n",
      " ===================\n",
      "Epoch: 19 \n",
      " Training loss: 0.16 \n",
      " Training acc: 0.97 \n",
      " Training f1: 0.97 \n",
      " ===================\n",
      "Epoch: 20 \n",
      " Training loss: 0.16 \n",
      " Training acc: 0.97 \n",
      " Training f1: 0.97 \n",
      " ===================\n",
      "Epoch: 21 \n",
      " Training loss: 0.15 \n",
      " Training acc: 0.97 \n",
      " Training f1: 0.97 \n",
      " ===================\n",
      "Epoch: 22 \n",
      " Training loss: 0.15 \n",
      " Training acc: 0.97 \n",
      " Training f1: 0.97 \n",
      " ===================\n",
      "Epoch: 23 \n",
      " Training loss: 0.14 \n",
      " Training acc: 0.97 \n",
      " Training f1: 0.97 \n",
      " ===================\n",
      "Epoch: 24 \n",
      " Training loss: 0.13 \n",
      " Training acc: 0.97 \n",
      " Training f1: 0.98 \n",
      " ===================\n",
      "Epoch: 25 \n",
      " Training loss: 0.13 \n",
      " Training acc: 0.97 \n",
      " Training f1: 0.97 \n",
      " ===================\n",
      "Epoch: 26 \n",
      " Training loss: 0.13 \n",
      " Training acc: 0.98 \n",
      " Training f1: 0.98 \n",
      " ===================\n",
      "Epoch: 27 \n",
      " Training loss: 0.12 \n",
      " Training acc: 0.98 \n",
      " Training f1: 0.98 \n",
      " ===================\n",
      "Epoch: 28 \n",
      " Training loss: 0.12 \n",
      " Training acc: 0.97 \n",
      " Training f1: 0.97 \n",
      " ===================\n",
      "Epoch: 29 \n",
      " Training loss: 0.12 \n",
      " Training acc: 0.97 \n",
      " Training f1: 0.97 \n",
      " ===================\n",
      "Epoch: 30 \n",
      " Training loss: 0.12 \n",
      " Training acc: 0.97 \n",
      " Training f1: 0.98 \n",
      " ===================\n",
      "Epoch: 31 \n",
      " Training loss: 0.11 \n",
      " Training acc: 0.98 \n",
      " Training f1: 0.98 \n",
      " ===================\n",
      "Epoch: 32 \n",
      " Training loss: 0.11 \n",
      " Training acc: 0.97 \n",
      " Training f1: 0.97 \n",
      " ===================\n",
      "Epoch: 33 \n",
      " Training loss: 0.11 \n",
      " Training acc: 0.98 \n",
      " Training f1: 0.98 \n",
      " ===================\n",
      "Epoch: 34 \n",
      " Training loss: 0.1 \n",
      " Training acc: 0.98 \n",
      " Training f1: 0.98 \n",
      " ===================\n",
      "Epoch: 35 \n",
      " Training loss: 0.1 \n",
      " Training acc: 0.98 \n",
      " Training f1: 0.98 \n",
      " ===================\n",
      "Epoch: 36 \n",
      " Training loss: 0.1 \n",
      " Training acc: 0.98 \n",
      " Training f1: 0.98 \n",
      " ===================\n",
      "Epoch: 37 \n",
      " Training loss: 0.09 \n",
      " Training acc: 0.98 \n",
      " Training f1: 0.98 \n",
      " ===================\n",
      "Epoch: 38 \n",
      " Training loss: 0.09 \n",
      " Training acc: 0.98 \n",
      " Training f1: 0.98 \n",
      " ===================\n",
      "Epoch: 39 \n",
      " Training loss: 0.09 \n",
      " Training acc: 0.98 \n",
      " Training f1: 0.98 \n",
      " ===================\n",
      "Epoch: 40 \n",
      " Training loss: 0.08 \n",
      " Training acc: 0.98 \n",
      " Training f1: 0.98 \n",
      " ===================\n",
      "Epoch: 41 \n",
      " Training loss: 0.08 \n",
      " Training acc: 0.98 \n",
      " Training f1: 0.98 \n",
      " ===================\n",
      "Epoch: 42 \n",
      " Training loss: 0.08 \n",
      " Training acc: 0.98 \n",
      " Training f1: 0.98 \n",
      " ===================\n",
      "Epoch: 43 \n",
      " Training loss: 0.08 \n",
      " Training acc: 0.98 \n",
      " Training f1: 0.98 \n",
      " ===================\n",
      "Epoch: 44 \n",
      " Training loss: 0.08 \n",
      " Training acc: 0.98 \n",
      " Training f1: 0.98 \n",
      " ===================\n",
      "Epoch: 45 \n",
      " Training loss: 0.08 \n",
      " Training acc: 0.98 \n",
      " Training f1: 0.98 \n",
      " ===================\n",
      "Epoch: 46 \n",
      " Training loss: 0.07 \n",
      " Training acc: 0.98 \n",
      " Training f1: 0.98 \n",
      " ===================\n",
      "Epoch: 47 \n",
      " Training loss: 0.08 \n",
      " Training acc: 0.98 \n",
      " Training f1: 0.98 \n",
      " ===================\n",
      "Epoch: 48 \n",
      " Training loss: 0.08 \n",
      " Training acc: 0.98 \n",
      " Training f1: 0.98 \n",
      " ===================\n",
      "Epoch: 49 \n",
      " Training loss: 0.08 \n",
      " Training acc: 0.98 \n",
      " Training f1: 0.98 \n",
      " ===================\n",
      "Epoch: 50 \n",
      " Training loss: 0.08 \n",
      " Training acc: 0.98 \n",
      " Training f1: 0.98 \n",
      " ===================\n",
      "Epoch: 51 \n",
      " Training loss: 0.07 \n",
      " Training acc: 0.98 \n",
      " Training f1: 0.98 \n",
      " ===================\n",
      "Epoch: 52 \n",
      " Training loss: 0.08 \n",
      " Training acc: 0.98 \n",
      " Training f1: 0.98 \n",
      " ===================\n",
      "Epoch: 53 \n",
      " Training loss: 0.07 \n",
      " Training acc: 0.98 \n",
      " Training f1: 0.98 \n",
      " ===================\n",
      "Epoch: 54 \n",
      " Training loss: 0.07 \n",
      " Training acc: 0.98 \n",
      " Training f1: 0.98 \n",
      " ===================\n",
      "Epoch: 55 \n",
      " Training loss: 0.06 \n",
      " Training acc: 0.98 \n",
      " Training f1: 0.98 \n",
      " ===================\n",
      "Epoch: 56 \n",
      " Training loss: 0.07 \n",
      " Training acc: 0.98 \n",
      " Training f1: 0.98 \n",
      " ===================\n",
      "Epoch: 57 \n",
      " Training loss: 0.06 \n",
      " Training acc: 0.98 \n",
      " Training f1: 0.98 \n",
      " ===================\n",
      "Epoch: 58 \n",
      " Training loss: 0.06 \n",
      " Training acc: 0.99 \n",
      " Training f1: 0.99 \n",
      " ===================\n",
      "Epoch: 59 \n",
      " Training loss: 0.06 \n",
      " Training acc: 0.98 \n",
      " Training f1: 0.98 \n",
      " ===================\n",
      "Epoch: 60 \n",
      " Training loss: 0.06 \n",
      " Training acc: 0.98 \n",
      " Training f1: 0.98 \n",
      " ===================\n"
     ]
    }
   ],
   "source": [
    "model.train(kb=kb, epochs=model_params.max_epochs, learning_rate=model_params.learning_rate)"
   ]
  },
  {
   "cell_type": "markdown",
   "metadata": {},
   "source": [
    "Let's save the trained PyTorch model to a file so that we can load it later if we need it."
   ]
  },
  {
   "cell_type": "code",
   "execution_count": 12,
   "metadata": {},
   "outputs": [],
   "source": [
    "model_folder = 'example_emoji2vec'\n",
    "if not os.path.isdir(model_folder):\n",
    "    os.makedirs(model_folder)\n",
    "    \n",
    "torch.save(model.nn, model_folder + '/model.pt')"
   ]
  },
  {
   "cell_type": "markdown",
   "metadata": {},
   "source": [
    "Now that the model is trained and saved we need to extract emoji representations from the neural network's parameters. <br>\n",
    "This can be done by a `model.Emoji2Vec` method called `create_gensim_files`, which will save the distributed representations of emojis in a format compatible with `gensim.models` allowing us to add Emoji2Vec representations to a gensim model and use them as any other word embeddings.\n"
   ]
  },
  {
   "cell_type": "code",
   "execution_count": 13,
   "metadata": {},
   "outputs": [],
   "source": [
    "e2v = model.create_gensim_files(model_folder=model_folder, ind2emoj=ind2emoji, out_dim=model_params.out_dim)"
   ]
  },
  {
   "cell_type": "markdown",
   "metadata": {},
   "source": [
    "#### Done.\n",
    "That's it, you've generated your own Emoji2Vec representations which now sit in `example_emoji2vec/` as `emoji2vec.txt` and `emoji2vec.bin`. Good job. <br>\n",
    "Now is the time for the fun part, for example we can create a gensim model with our newly generated emoji embeddings."
   ]
  },
  {
   "cell_type": "code",
   "execution_count": 14,
   "metadata": {},
   "outputs": [],
   "source": [
    "e2v = gsm.KeyedVectors.load_word2vec_format(\"example_emoji2vec/emoji2vec.bin\", binary=True)"
   ]
  },
  {
   "cell_type": "markdown",
   "metadata": {},
   "source": [
    "Let's take a look at some of the emojis in the data set."
   ]
  },
  {
   "cell_type": "code",
   "execution_count": 15,
   "metadata": {},
   "outputs": [],
   "source": [
    "vocabulary = e2v.vocab.keys()"
   ]
  },
  {
   "cell_type": "code",
   "execution_count": 16,
   "metadata": {},
   "outputs": [
    {
     "name": "stdout",
     "output_type": "stream",
     "text": [
      "['🇨🇺' '🙌🏿' '🌮' '☣' '👱🏿' '🇨🇫' '🇲🇵' '🕓' '🔪' '🐢']\n"
     ]
    }
   ],
   "source": [
    "# Sample 10 random emojis from the data set.\n",
    "example_emojis = np.random.choice(list(vocabulary), 10)\n",
    "print(example_emojis)"
   ]
  },
  {
   "cell_type": "markdown",
   "metadata": {},
   "source": [
    "Each of the above emojis has its own vector representation."
   ]
  },
  {
   "cell_type": "code",
   "execution_count": 17,
   "metadata": {},
   "outputs": [
    {
     "name": "stderr",
     "output_type": "stream",
     "text": [
      "/home/user/Documents/emoji2vec/e2v_env/lib/python3.6/site-packages/ipykernel_launcher.py:1: DeprecationWarning: Call to deprecated `wv` (Attribute will be removed in 4.0.0, use self instead).\n",
      "  \"\"\"Entry point for launching an IPython kernel.\n"
     ]
    },
    {
     "data": {
      "text/plain": [
       "array([[-0.31287813, -0.30965185,  0.27617866, ..., -0.11076863,\n",
       "         0.27228284,  0.20612997],\n",
       "       [ 0.1279807 , -0.05454838, -0.07805232, ...,  0.02052569,\n",
       "        -0.00635082, -0.24651076],\n",
       "       [-0.18673006, -0.3734869 , -0.13771021, ...,  0.13268538,\n",
       "        -0.01627036, -0.09945607],\n",
       "       ...,\n",
       "       [-0.084155  , -0.26755714,  0.41112074, ..., -0.06871715,\n",
       "        -0.16944052, -0.19901495],\n",
       "       [-0.5802002 , -0.11823418,  0.39910623, ...,  0.04358187,\n",
       "        -0.22510768,  0.2459275 ],\n",
       "       [ 0.1919789 ,  0.32465485, -0.7188034 , ...,  0.45272884,\n",
       "        -0.01710549, -0.09367993]], dtype=float32)"
      ]
     },
     "execution_count": 17,
     "metadata": {},
     "output_type": "execute_result"
    }
   ],
   "source": [
    "e2v.wv[example_emojis]"
   ]
  },
  {
   "cell_type": "markdown",
   "metadata": {},
   "source": [
    "Thanks to the fact that the learnt emoji representations are compatible with `gensim.models`, we can do a lot of cool things like finding similar emojis."
   ]
  },
  {
   "cell_type": "code",
   "execution_count": 18,
   "metadata": {},
   "outputs": [
    {
     "name": "stderr",
     "output_type": "stream",
     "text": [
      "/home/user/Documents/emoji2vec/e2v_env/lib/python3.6/site-packages/gensim/matutils.py:737: FutureWarning: Conversion of the second argument of issubdtype from `int` to `np.signedinteger` is deprecated. In future, it will be treated as `np.int64 == np.dtype(int).type`.\n",
      "  if np.issubdtype(vec.dtype, np.int):\n"
     ]
    },
    {
     "data": {
      "text/plain": [
       "[('🚓', 0.8722398281097412),\n",
       " ('🚑', 0.6165059804916382),\n",
       " ('🚘', 0.5822903513908386),\n",
       " ('👮🏿', 0.577760636806488),\n",
       " ('👮', 0.5697044730186462),\n",
       " ('🚗', 0.5328611135482788),\n",
       " ('🚃', 0.5255826711654663),\n",
       " ('🚙', 0.5193851590156555),\n",
       " ('🚕', 0.5161677002906799),\n",
       " ('🚐', 0.5124407410621643)]"
      ]
     },
     "execution_count": 18,
     "metadata": {},
     "output_type": "execute_result"
    }
   ],
   "source": [
    "e2v.most_similar('🚔')"
   ]
  },
  {
   "cell_type": "code",
   "execution_count": null,
   "metadata": {},
   "outputs": [
    {
     "data": {
      "text/plain": [
       "[('🦋', 0.6746906638145447),\n",
       " ('🏊🏿', 0.5993638038635254),\n",
       " ('🛀', 0.5933505892753601),\n",
       " ('🛁', 0.583660364151001),\n",
       " ('⛲', 0.5823800563812256),\n",
       " ('🚰', 0.5734569430351257),\n",
       " ('🏊🏾', 0.5688455700874329),\n",
       " ('🏊🏻', 0.556538462638855),\n",
       " ('🌊', 0.5471222400665283),\n",
       " ('💦', 0.5453152656555176)]"
      ]
     },
     "execution_count": 19,
     "metadata": {},
     "output_type": "execute_result"
    }
   ],
   "source": [
    "e2v.most_similar('🏊')"
   ]
  },
  {
   "cell_type": "code",
   "execution_count": null,
   "metadata": {},
   "outputs": [
    {
     "data": {
      "text/plain": [
       "[('🚅', 0.8191389441490173),\n",
       " ('🚆', 0.7354292869567871),\n",
       " ('🚋', 0.7118366956710815),\n",
       " ('🚉', 0.6971631646156311),\n",
       " ('🚂', 0.6815627217292786),\n",
       " ('🚃', 0.6649359464645386),\n",
       " ('🚟', 0.6503240466117859),\n",
       " ('🚝', 0.5870567560195923),\n",
       " ('🚞', 0.5861678123474121),\n",
       " ('🚈', 0.5822986364364624)]"
      ]
     },
     "execution_count": 20,
     "metadata": {},
     "output_type": "execute_result"
    }
   ],
   "source": [
    "e2v.most_similar('🚄')"
   ]
  },
  {
   "cell_type": "code",
   "execution_count": null,
   "metadata": {},
   "outputs": [
    {
     "data": {
      "text/plain": [
       "[('🌧', 0.6393843293190002),\n",
       " ('☁️', 0.6163010001182556),\n",
       " ('🌦', 0.5562928318977356),\n",
       " ('🌨', 0.5485323667526245),\n",
       " ('⛈', 0.5457589626312256),\n",
       " ('⛅', 0.5421726703643799),\n",
       " ('☔', 0.5362968444824219),\n",
       " ('🌤', 0.526214063167572),\n",
       " ('🌪', 0.5242847204208374),\n",
       " ('🌥', 0.5231043100357056)]"
      ]
     },
     "execution_count": 21,
     "metadata": {},
     "output_type": "execute_result"
    }
   ],
   "source": [
    "e2v.most_similar('🌩')"
   ]
  },
  {
   "cell_type": "markdown",
   "metadata": {},
   "source": [
    "However the real fun starts when we combine the power of emoji embeddings with word embeddings. <br>\n",
    "Let's create a model that combines the two, this will allow us to measure similarity between emojis and phrases. "
   ]
  },
  {
   "cell_type": "code",
   "execution_count": null,
   "metadata": {},
   "outputs": [],
   "source": [
    "phraseVecModel = Phrase2Vec.from_word2vec_paths(300,\n",
    "                                                \"data/word2vec/GoogleNews-vectors-negative300.bin.gz\",\n",
    "                                                \"example_model/emoji2vec.bin\")"
   ]
  },
  {
   "cell_type": "code",
   "execution_count": null,
   "metadata": {},
   "outputs": [],
   "source": [
    "# mapping from id to emoji\n",
    "mapping = pk.load(open(params[\"mapping_file\"], 'rb'))\n",
    "# mapping from emoji to id\n",
    "inverse_mapping = {v: k for k, v in mapping.items()}"
   ]
  },
  {
   "cell_type": "code",
   "execution_count": null,
   "metadata": {},
   "outputs": [],
   "source": [
    "def find_analogous_emoji(emoji_1,\n",
    "                         emoji_2,\n",
    "                         emoji_3,\n",
    "                         top_n,\n",
    "                         mapping=mapping,\n",
    "                         inverse_mapping=inverse_mapping,\n",
    "                         e2v=e2v,\n",
    "                         model=model):\n",
    "    similarities = []\n",
    "    vector = e2v[emoji_1] - e2v[emoji_2] + e2v[emoji_3]\n",
    "    vector = vector / np.linalg.norm(vector)\n",
    "    \n",
    "    for idx in range(len(mapping)):\n",
    "        emoij_idx_similarity = model.nn.forward(torch.Tensor(vector.reshape(1, -1)), idx).detach().numpy()\n",
    "        similarities.append(emoij_idx_similarity)\n",
    "    \n",
    "    similarities = np.array(similarities)\n",
    "    n_most_similar_idxs = similarities.argsort(axis=0)[-top_n:][::-1].reshape(-1)\n",
    "    n_most_similar_emojis = [mapping[emoji_idx] for emoji_idx in n_most_similar_idxs]\n",
    "    \n",
    "    str_expression = ' '.join([emoji_1, \"-\", emoji_2, \"+\", emoji_3,])\n",
    "    top_score = similarities[n_most_similar_idxs[0]]\n",
    "    \n",
    "    return str_expression, n_most_similar_emojis\n",
    "        "
   ]
  },
  {
   "cell_type": "code",
   "execution_count": null,
   "metadata": {},
   "outputs": [],
   "source": [
    "table = [[\"Expression\", \"Closest emojis\"],\n",
    "         [*find_analogous_emoji(\"🤴\", \"🚹\", \"🚺\", 3)],\n",
    "         [*find_analogous_emoji(\"👑\", \"🚹\", \"🚺\", 3)],\n",
    "         [*find_analogous_emoji(\"👦\", \"🚹\", \"🚺\", 3)],\n",
    "         [*find_analogous_emoji(\"💵\", \"🇺🇸\", \"🇬🇧\", 3)],\n",
    "         [*find_analogous_emoji(\"💵\", \"🇺🇸\", \"🇪🇺\", 3)],\n",
    "         [*find_analogous_emoji(\"💷\", \"🇬🇧\", \"🇪🇺\", 3)]]"
   ]
  },
  {
   "cell_type": "code",
   "execution_count": null,
   "metadata": {},
   "outputs": [],
   "source": [
    "print(tabulate(table, headers=\"firstrow\", tablefmt=\"rst\"))"
   ]
  },
  {
   "cell_type": "markdown",
   "metadata": {},
   "source": [
    "Although far from perfect, similarly to the [published](https://arxiv.org/pdf/1609.08359.pdf) results an emoji considered to be \"right\" is usually within the top 3 examples selected by the model."
   ]
  },
  {
   "cell_type": "markdown",
   "metadata": {},
   "source": [
    "Combining Emoji2Vec representations with word2vec embeddings they were trained on also allows to inspect the relationships between word embeddings and emoji embeddings. For example with the `phrase2emoji` function below we can see emojis most similar to an arbitrary phrase."
   ]
  },
  {
   "cell_type": "code",
   "execution_count": null,
   "metadata": {},
   "outputs": [],
   "source": [
    "def phrase2emoji(phrase, \n",
    "                 top_n,\n",
    "                 phraseVecModel=phraseVecModel,\n",
    "                 mapping=mapping,\n",
    "                 model=model):\n",
    "    \n",
    "    similarities = []\n",
    "    phrase_vec = phraseVecModel[phrase]\n",
    "    for idx in range(len(mapping)):\n",
    "        emoij_idx_similarity = model.nn.forward(torch.Tensor(phrase_vec.reshape(1, -1)), idx).detach().numpy()\n",
    "        similarities.append(emoij_idx_similarity)\n",
    "        \n",
    "    similarities = np.array(similarities)\n",
    "    n_most_similar_idxs = similarities.argsort(axis=0)[-top_n:][::-1].reshape(-1)\n",
    "    n_most_similar_emojis = [mapping[emoji_idx] for emoji_idx in n_most_similar_idxs]\n",
    "    \n",
    "    return phrase, n_most_similar_emojis\n",
    "    "
   ]
  },
  {
   "cell_type": "code",
   "execution_count": null,
   "metadata": {},
   "outputs": [],
   "source": [
    "table = [[\"Phrase\", \"Closest emojis\"],\n",
    "         [*phrase2emoji(\"funny\", 3)],\n",
    "         [*phrase2emoji(\"scary\", 3)],\n",
    "         [*phrase2emoji(\"okay\", 3)],\n",
    "         [*phrase2emoji(\"crazy\", 3)],\n",
    "         [*phrase2emoji(\"wild\", 3)],\n",
    "         [*phrase2emoji(\"afraid\", 3)]]"
   ]
  },
  {
   "cell_type": "code",
   "execution_count": null,
   "metadata": {},
   "outputs": [],
   "source": [
    "print(tabulate(table, headers=\"firstrow\", tablefmt=\"rst\"))"
   ]
  },
  {
   "cell_type": "markdown",
   "metadata": {},
   "source": [
    "There seems to exist a strong relationship between simple adjectives and emojis. That's great, but is this the whole point of Emoji2Vec? <br>\n",
    "Of course not. In fact Emoji2Vec authors evaluated their method's performance on a downstream task of sentiment classification on a dataset  by  Kralj   Novak  et  al.  (2015),  which  consists of over 67k English tweets labelled manually for positive, neutral, or negative sentiment. Using Emoji2Vec alongside word embeddings, as opposed to using just word embeddings, yielded an improvement in classification accuracy across all studied datasets. In the same task Emoji2Vec also outperformed an alternative method for emoji representation. <br>\n",
    "For more details check out the [paper](https://arxiv.org/pdf/1609.08359.pdf). You can also inspect the results of the sentiment classification task in [this notebook](https://github.com/uclmr/emoji2vec/blob/master/TwitterClassification.ipynb)."
   ]
  }
 ],
 "metadata": {
  "kernelspec": {
   "display_name": "Python 3",
   "language": "python",
   "name": "python3"
  },
  "language_info": {
   "codemirror_mode": {
    "name": "ipython",
    "version": 3
   },
   "file_extension": ".py",
   "mimetype": "text/x-python",
   "name": "python",
   "nbconvert_exporter": "python",
   "pygments_lexer": "ipython3",
   "version": "3.6.7"
  }
 },
 "nbformat": 4,
 "nbformat_minor": 2
}
